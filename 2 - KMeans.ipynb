








<!DOCTYPE html>
<html lang="en">

<head>
  <meta charset="utf-8">
  <title>Jupyter Notebook Viewer</title>
  <meta name="viewport" content="width=device-width, initial-scale=1.0">
  <meta name="description" content="">
  <meta name="author" content="">
  
  <meta name="robots" content="noindex,nofollow">
  

  <!--NEW RELIC Start Perf Measurement-->
  
  <!--NREND-->

  <!-- Le styles -->
  <link href="/static/build/styles.css" rel="stylesheet">

  <!-- Le HTML5 shim, for IE6-8 support of HTML5 elements -->
  <!--[if lt IE 9]>
    <script src="http://html5shim.googlecode.com/svn/trunk/html5.js"></script>
  <![endif]-->

  <!-- Le fav and touch icons -->
  <link rel="shortcut icon" href="/static/ico/ipynb_icon_16x16.png">
  <link rel="apple-touch-icon-precomposed" sizes="144x144"
        href="/static/ico/apple-touch-icon-144-precomposed.png">
  <link rel="apple-touch-icon-precomposed" sizes="114x114"
        href="/static/ico/apple-touch-icon-114-precomposed.png">
  <link rel="apple-touch-icon-precomposed" sizes="72x72"
        href="/static/ico/apple-touch-icon-72-precomposed.png">
  <link rel="apple-touch-icon-precomposed"
        href="/static/ico/apple-touch-icon-57-precomposed.png">
  
  

  

  
  <meta name="twitter:card" content="summary">
  <meta name="twitter:title" content="Notebook on nbviewer">
  <meta name="twitter:description" content="Check out this Jupyter notebook!">

  
  <meta name="twitter:domain" content="nbviewer.jupyter.org">
  <meta name="twitter:image:src" content="http://ipython.org/ipython-doc/dev/_images/ipynb_icon_128x128.png">

  
    <link href="/static/build/notebook.css" rel="stylesheet">
  

  

  
    <script src="https://cdnjs.cloudflare.com/ajax/libs/mathjax/2.7.1/MathJax.js?config=TeX-AMS_HTML" type="text/javascript">
    </script>
    <script type="text/javascript">
      init_mathjax = function() {
        if (window.MathJax) {
          // MathJax loaded
          MathJax.Hub.Config({
            TeX: {
              equationNumbers: {
                autoNumber: "AMS",
                useLabelIds: true
              }
            },
            tex2jax: {
              inlineMath: [ ['$','$'], ["\\(","\\)"] ],
              displayMath: [ ['$$','$$'], ["\\[","\\]"] ],
              processEscapes: true,
              processEnvironments: true
            },
            displayAlign: 'center',
            "HTML-CSS": {
              styles: {'.MathJax_Display': {"margin": 0}},
              linebreaks: { automatic: true }
            }
          });
          MathJax.Hub.Queue(["Typeset", MathJax.Hub]);
        }
      }
      init_mathjax();
    </script>
  

  
    <script>
      (function() {
        function addWidgetsRenderer() {
          var mimeElement = document.querySelector('script[type="application/vnd.jupyter.widget-view+json"]');
          var scriptElement = document.createElement('script');
          var widgetRendererSrc = 'https://unpkg.com/@jupyter-widgets/html-manager@0.15/dist/embed-amd.js';
          var widgetState;

          try {
            widgetState = mimeElement && JSON.parse(mimeElement.innerHTML);

            if (widgetState && (widgetState.version_major < 2 || !widgetState.version_major)) {
              widgetRendererSrc = 'https://unpkg.com/jupyter-js-widgets@2.1/dist/embed.js';
            }
          } catch(e) {}

          scriptElement.src = widgetRendererSrc;
          document.body.appendChild(scriptElement);
        }

        document.addEventListener('DOMContentLoaded', addWidgetsRenderer);
      }());
    </script>
  

</head>

<body class="nbviewer">

  <!-- These are loaded at the top of the body so they are available to
       notebook cells when they are loaded below. -->
  <script src="/static/components/jquery/dist/jquery.min.js"></script>
  <script src="/static/components/requirejs/require.js"></script>
  <script src="/static/components/moment/min/moment.min.js"></script>
<!-- Navbar
================================================== -->
  <nav id="menubar" class="navbar navbar-default navbar-fixed-top" data-spy="affix">
    <div class="container">
      <div class="navbar-header">
        <button type="button" class="navbar-toggle collapsed" data-toggle="collapse" data-target=".navbar-collapse">
          <span class="sr-only">Toggle navigation</span>
          <i class="fa fa-bars"></i>
        </button>
        <a class="navbar-brand" href="/">
          <img src="/static/img/nav_logo.svg" width="159"/>
        </a>
      </div>

      <div class="collapse navbar-collapse">
        <ul class="nav navbar-nav navbar-right">
          <li>
            <a class="active" href="https://jupyter.org">JUPYTER</a>
          </li>
          <li>
    <a href="/faq" title="FAQ" >
      
        <span>FAQ</span>
      
    </a>
  </li>

          
  
    
  
    
      
        <li>
    <a href="script/github/temporaer/tutorial_ml_gkbionics/blob/master/2%20-%20KMeans.ipynb" title="View as Code" >
      <span class="fa fa-code fa-2x menu-icon"></span>
      <span class="menu-text">View as Code</span>
    </a>
  </li>
      
    
  

  

  
    <li>
    <a href="https://github.com/temporaer/tutorial_ml_gkbionics/blob/master/2%20-%20KMeans.ipynb" title="View on GitHub" >
      <span class="fa fa-github fa-2x menu-icon"></span>
      <span class="menu-text">View on GitHub</span>
    </a>
  </li>
  

  
    <li>
    <a href="https://mybinder.org/v2/gh/temporaer/tutorial_ml_gkbionics/master?filepath=2%20-%20KMeans.ipynb" title="Execute on Binder" >
      <span class="fa fa-icon-binder fa-2x menu-icon"></span>
      <span class="menu-text">Execute on Binder</span>
    </a>
  </li>
  

  <li>
    <a href="https://raw.githubusercontent.com/temporaer/tutorial_ml_gkbionics/master/2%20-%20KMeans.ipynb" title="Download Notebook" download>
      <span class="fa fa-download fa-2x menu-icon"></span>
      <span class="menu-text">Download Notebook</span>
    </a>
  </li>

        </ul>
      </div><!-- /.navbar-collapse -->
      
      
    </div>
  </nav>

  <div class="container container-main">
    
  
  <ol class="breadcrumb">
    
      <li>
        <a href="/github/temporaer/tutorial_ml_gkbionics/tree/master">tutorial_ml_gkbionics</a>
      </li>
    
      <li>
        <a href="/github/temporaer/tutorial_ml_gkbionics/tree/master/2 - KMeans.ipynb">2 - KMeans.ipynb</a>
      </li>
    
  </ol>
  
  <div id="notebook">
    <div id="notebook-container">
      <div class="cell border-box-sizing text_cell rendered"><div class="prompt input_prompt">
</div><div class="inner_cell">
<div class="text_cell_render border-box-sizing rendered_html">
<h1 id="The-$k$-Means-Algorithm">The $k$-Means Algorithm<a class="anchor-link" href="#The-$k$-Means-Algorithm">&#182;</a></h1><p>Again, we start by generating some artificial data:</p>

</div>
</div>
</div>
<div class="cell border-box-sizing code_cell rendered">
<div class="input">
<div class="prompt input_prompt">In&nbsp;[31]:</div>
<div class="inner_cell">
    <div class="input_area">
<div class=" highlight hl-ipython3"><pre><span></span><span class="n">plt</span><span class="o">.</span><span class="n">jet</span><span class="p">()</span> <span class="c1"># set the color map. When your colors are lost, re-run this.</span>
<span class="kn">import</span> <span class="nn">sklearn.datasets</span> <span class="k">as</span> <span class="nn">datasets</span>
<span class="n">X</span><span class="p">,</span> <span class="n">Y</span> <span class="o">=</span> <span class="n">datasets</span><span class="o">.</span><span class="n">make_blobs</span><span class="p">(</span><span class="n">centers</span><span class="o">=</span><span class="mi">4</span><span class="p">,</span> <span class="n">cluster_std</span><span class="o">=</span><span class="mf">0.5</span><span class="p">,</span> <span class="n">random_state</span><span class="o">=</span><span class="mi">0</span><span class="p">)</span>
</pre></div>

    </div>
</div>
</div>

</div>
<div class="cell border-box-sizing text_cell rendered"><div class="prompt input_prompt">
</div><div class="inner_cell">
<div class="text_cell_render border-box-sizing rendered_html">
<p>As always, we first <em>plot</em> the data to get a feeling of what we're dealing with:</p>

</div>
</div>
</div>
<div class="cell border-box-sizing code_cell rendered">
<div class="input">
<div class="prompt input_prompt">In&nbsp;[26]:</div>
<div class="inner_cell">
    <div class="input_area">
<div class=" highlight hl-ipython3"><pre><span></span><span class="n">plt</span><span class="o">.</span><span class="n">scatter</span><span class="p">(</span><span class="n">X</span><span class="p">[:,</span><span class="mi">0</span><span class="p">],</span> <span class="n">X</span><span class="p">[:,</span><span class="mi">1</span><span class="p">]);</span>
</pre></div>

    </div>
</div>
</div>

<div class="output_wrapper">
<div class="output">


<div class="output_area">

    <div class="prompt"></div>




<div class="output_png output_subarea ">
<img src="data:image/png;base64,iVBORw0KGgoAAAANSUhEUgAAAXAAAAD9CAYAAAClQCyNAAAABHNCSVQICAgIfAhkiAAAAAlwSFlz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"
>
</div>

</div>

</div>
</div>

</div>
<div class="cell border-box-sizing text_cell rendered"><div class="prompt input_prompt">
</div><div class="inner_cell">
<div class="text_cell_render border-box-sizing rendered_html">
<p>The data looks like it may contain four different "types" of data point.</p>
<p>In fact, this is how it was created above.</p>
<p>We can plot this information as well, using color:</p>

</div>
</div>
</div>
<div class="cell border-box-sizing code_cell rendered">
<div class="input">
<div class="prompt input_prompt">In&nbsp;[27]:</div>
<div class="inner_cell">
    <div class="input_area">
<div class=" highlight hl-ipython3"><pre><span></span><span class="n">plt</span><span class="o">.</span><span class="n">scatter</span><span class="p">(</span><span class="n">X</span><span class="p">[:,</span><span class="mi">0</span><span class="p">],</span> <span class="n">X</span><span class="p">[:,</span><span class="mi">1</span><span class="p">],</span> <span class="n">c</span><span class="o">=</span><span class="n">Y</span><span class="p">);</span>
</pre></div>

    </div>
</div>
</div>

<div class="output_wrapper">
<div class="output">


<div class="output_area">

    <div class="prompt"></div>




<div class="output_png output_subarea ">
<img src="data:image/png;base64,iVBORw0KGgoAAAANSUhEUgAAAXAAAAD9CAYAAAClQCyNAAAABHNCSVQICAgIfAhkiAAAAAlwSFlz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"
>
</div>

</div>

</div>
</div>

</div>
<div class="cell border-box-sizing text_cell rendered"><div class="prompt input_prompt">
</div><div class="inner_cell">
<div class="text_cell_render border-box-sizing rendered_html">
<p>Normally, you do not know the information in <code>Y</code>, however.</p>
<p>You could try to recover it from the data alone.</p>
<p>This is what the kMeans algorithm does.</p>

</div>
</div>
</div>
<div class="cell border-box-sizing code_cell rendered">
<div class="input">
<div class="prompt input_prompt">In&nbsp;[28]:</div>
<div class="inner_cell">
    <div class="input_area">
<div class=" highlight hl-ipython3"><pre><span></span><span class="kn">from</span> <span class="nn">sklearn.cluster</span> <span class="kn">import</span> <span class="n">KMeans</span>
<span class="n">kmeans</span> <span class="o">=</span> <span class="n">KMeans</span><span class="p">(</span><span class="mi">4</span><span class="p">,</span> <span class="n">random_state</span><span class="o">=</span><span class="mi">8</span><span class="p">)</span>
<span class="n">Y_hat</span> <span class="o">=</span> <span class="n">kmeans</span><span class="o">.</span><span class="n">fit</span><span class="p">(</span><span class="n">X</span><span class="p">)</span><span class="o">.</span><span class="n">labels_</span>
</pre></div>

    </div>
</div>
</div>

</div>
<div class="cell border-box-sizing text_cell rendered"><div class="prompt input_prompt">
</div><div class="inner_cell">
<div class="text_cell_render border-box-sizing rendered_html">
<p>Now the label assignments should be quite similar to <code>Y</code>, up to a different ordering of the colors:</p>

</div>
</div>
</div>
<div class="cell border-box-sizing code_cell rendered">
<div class="input">
<div class="prompt input_prompt">In&nbsp;[29]:</div>
<div class="inner_cell">
    <div class="input_area">
<div class=" highlight hl-ipython3"><pre><span></span><span class="n">plt</span><span class="o">.</span><span class="n">scatter</span><span class="p">(</span><span class="n">X</span><span class="p">[:,</span><span class="mi">0</span><span class="p">],</span> <span class="n">X</span><span class="p">[:,</span><span class="mi">1</span><span class="p">],</span> <span class="n">c</span><span class="o">=</span><span class="n">Y_hat</span><span class="p">);</span>
</pre></div>

    </div>
</div>
</div>

<div class="output_wrapper">
<div class="output">


<div class="output_area">

    <div class="prompt"></div>




<div class="output_png output_subarea ">
<img src="data:image/png;base64,iVBORw0KGgoAAAANSUhEUgAAAXAAAAD9CAYAAAClQCyNAAAABHNCSVQICAgIfAhkiAAAAAlwSFlz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"
>
</div>

</div>

</div>
</div>

</div>
<div class="cell border-box-sizing text_cell rendered"><div class="prompt input_prompt">
</div><div class="inner_cell">
<div class="text_cell_render border-box-sizing rendered_html">
<p>Often, you're not so much interested in the assignments to the means.</p>
<p>You'll want to have a closer look at the means $\mu$.</p>
<p>The means in $\mu$ can be seen as <em>representatives</em> of their respective cluster.</p>

</div>
</div>
</div>
<div class="cell border-box-sizing code_cell rendered">
<div class="input">
<div class="prompt input_prompt">In&nbsp;[30]:</div>
<div class="inner_cell">
    <div class="input_area">
<div class=" highlight hl-ipython3"><pre><span></span><span class="n">plt</span><span class="o">.</span><span class="n">scatter</span><span class="p">(</span><span class="n">X</span><span class="p">[:,</span><span class="mi">0</span><span class="p">],</span> <span class="n">X</span><span class="p">[:,</span><span class="mi">1</span><span class="p">],</span> <span class="n">c</span><span class="o">=</span><span class="n">Y_hat</span><span class="p">,</span> <span class="n">alpha</span><span class="o">=</span><span class="mf">0.4</span><span class="p">)</span>
<span class="n">mu</span> <span class="o">=</span> <span class="n">kmeans</span><span class="o">.</span><span class="n">cluster_centers_</span>
<span class="n">plt</span><span class="o">.</span><span class="n">scatter</span><span class="p">(</span><span class="n">mu</span><span class="p">[:,</span><span class="mi">0</span><span class="p">],</span> <span class="n">mu</span><span class="p">[:,</span><span class="mi">1</span><span class="p">],</span> <span class="n">s</span><span class="o">=</span><span class="mi">100</span><span class="p">,</span> <span class="n">c</span><span class="o">=</span><span class="n">np</span><span class="o">.</span><span class="n">unique</span><span class="p">(</span><span class="n">Y_hat</span><span class="p">))</span>
<span class="nb">print</span> <span class="n">mu</span>
</pre></div>

    </div>
</div>
</div>

<div class="output_wrapper">
<div class="output">


<div class="output_area">

    <div class="prompt"></div>


<div class="output_subarea output_stream output_stdout output_text">
<pre>[[-1.47935679  3.11716896]
 [-1.26811733  7.76378266]
 [ 1.99186903  0.96561071]
 [ 0.92578447  4.32475792]]
</pre>
</div>
</div>

<div class="output_area">

    <div class="prompt"></div>




<div class="output_png output_subarea ">
<img src="data:image/png;base64,iVBORw0KGgoAAAANSUhEUgAAAXAAAAD9CAYAAAClQCyNAAAABHNCSVQICAgIfAhkiAAAAAlwSFlz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"
>
</div>

</div>

</div>
</div>

</div>
<div class="cell border-box-sizing text_cell rendered"><div class="prompt input_prompt">
</div><div class="inner_cell">
<div class="text_cell_render border-box-sizing rendered_html">
<h2 id="$k$-Means-on-Images">$k$-Means on Images<a class="anchor-link" href="#$k$-Means-on-Images">&#182;</a></h2>
</div>
</div>
</div>
<div class="cell border-box-sizing text_cell rendered"><div class="prompt input_prompt">
</div><div class="inner_cell">
<div class="text_cell_render border-box-sizing rendered_html">
<p>In this final example, we use the $k$-Means algorithm on the classical MNIST dataset.</p>
<p>The MNIST dataset contains images of hand-written digits.</p>
<p>Let's first fetch the dataset from the internet (which may take a while, note the asterisk [*]):</p>

</div>
</div>
</div>
<div class="cell border-box-sizing code_cell rendered">
<div class="input">
<div class="prompt input_prompt">In&nbsp;[7]:</div>
<div class="inner_cell">
    <div class="input_area">
<div class=" highlight hl-ipython3"><pre><span></span><span class="kn">from</span> <span class="nn">sklearn.datasets</span> <span class="kn">import</span> <span class="n">fetch_mldata</span>
<span class="kn">from</span> <span class="nn">sklearn.cluster</span> <span class="kn">import</span> <span class="n">KMeans</span>
<span class="kn">from</span> <span class="nn">sklearn.utils</span> <span class="kn">import</span> <span class="n">shuffle</span>
<span class="n">X_digits</span><span class="p">,</span> <span class="n">_</span><span class="p">,</span><span class="n">_</span><span class="p">,</span> <span class="n">Y_digits</span> <span class="o">=</span> <span class="n">fetch_mldata</span><span class="p">(</span><span class="s2">&quot;MNIST Original&quot;</span><span class="p">)</span><span class="o">.</span><span class="n">values</span><span class="p">()</span> <span class="c1"># fetch dataset from internet</span>
<span class="n">X_digits</span><span class="p">,</span> <span class="n">Y_digits</span> <span class="o">=</span> <span class="n">shuffle</span><span class="p">(</span><span class="n">X_digits</span><span class="p">,</span><span class="n">Y_digits</span><span class="p">)</span> <span class="c1"># shuffle dataset (which is ordered!)</span>
<span class="n">X_digits</span> <span class="o">=</span> <span class="n">X_digits</span><span class="p">[</span><span class="o">-</span><span class="mi">5000</span><span class="p">:]</span>       <span class="c1"># take only the last instances, to shorten runtime of KMeans</span>
</pre></div>

    </div>
</div>
</div>

</div>
<div class="cell border-box-sizing text_cell rendered"><div class="prompt input_prompt">
</div><div class="inner_cell">
<div class="text_cell_render border-box-sizing rendered_html">
<p>Let's have a look at some of the instances in the dataset we just loaded:</p>

</div>
</div>
</div>
<div class="cell border-box-sizing code_cell rendered">
<div class="input">
<div class="prompt input_prompt">In&nbsp;[12]:</div>
<div class="inner_cell">
    <div class="input_area">
<div class=" highlight hl-ipython3"><pre><span></span><span class="n">plt</span><span class="o">.</span><span class="n">rc</span><span class="p">(</span><span class="s2">&quot;image&quot;</span><span class="p">,</span> <span class="n">cmap</span><span class="o">=</span><span class="s2">&quot;binary&quot;</span><span class="p">)</span> <span class="c1"># use black/white palette for plotting</span>
<span class="k">for</span> <span class="n">i</span> <span class="ow">in</span> <span class="n">xrange</span><span class="p">(</span><span class="mi">10</span><span class="p">):</span>
    <span class="n">plt</span><span class="o">.</span><span class="n">subplot</span><span class="p">(</span><span class="mi">2</span><span class="p">,</span><span class="mi">5</span><span class="p">,</span><span class="n">i</span><span class="o">+</span><span class="mi">1</span><span class="p">)</span>
    <span class="n">plt</span><span class="o">.</span><span class="n">imshow</span><span class="p">(</span><span class="n">X_digits</span><span class="p">[</span><span class="n">i</span><span class="p">]</span><span class="o">.</span><span class="n">reshape</span><span class="p">(</span><span class="mi">28</span><span class="p">,</span><span class="mi">28</span><span class="p">))</span>
    <span class="n">plt</span><span class="o">.</span><span class="n">xticks</span><span class="p">(())</span>
    <span class="n">plt</span><span class="o">.</span><span class="n">yticks</span><span class="p">(())</span>
<span class="n">plt</span><span class="o">.</span><span class="n">tight_layout</span><span class="p">()</span>
</pre></div>

    </div>
</div>
</div>

<div class="output_wrapper">
<div class="output">


<div class="output_area">

    <div class="prompt"></div>




<div class="output_png output_subarea ">
<img src="data:image/png;base64,iVBORw0KGgoAAAANSUhEUgAAAagAAADMCAYAAAAmoDc4AAAABHNCSVQICAgIfAhkiAAAAAlwSFlz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"
>
</div>

</div>

</div>
</div>

</div>
<div class="cell border-box-sizing text_cell rendered"><div class="prompt input_prompt">
</div><div class="inner_cell">
<div class="text_cell_render border-box-sizing rendered_html">
<p><strong>Warning</strong>: This takes quite a few seconds, so be patient until the asterisk [*] disappears!</p>

</div>
</div>
</div>
<div class="cell border-box-sizing code_cell rendered">
<div class="input">
<div class="prompt input_prompt">In&nbsp;[9]:</div>
<div class="inner_cell">
    <div class="input_area">
<div class=" highlight hl-ipython3"><pre><span></span><span class="n">kmeans</span> <span class="o">=</span> <span class="n">KMeans</span><span class="p">(</span><span class="mi">20</span><span class="p">)</span>
<span class="n">mu_digits</span> <span class="o">=</span> <span class="n">kmeans</span><span class="o">.</span><span class="n">fit</span><span class="p">(</span><span class="n">X_digits</span><span class="p">)</span><span class="o">.</span><span class="n">cluster_centers_</span>
</pre></div>

    </div>
</div>
</div>

</div>
<div class="cell border-box-sizing text_cell rendered"><div class="prompt input_prompt">
</div><div class="inner_cell">
<div class="text_cell_render border-box-sizing rendered_html">
<p>Let's have a closer look at the means. Even though there are 10 digits, some of them are over/under-represented. Do you understand why?</p>

</div>
</div>
</div>
<div class="cell border-box-sizing code_cell rendered">
<div class="input">
<div class="prompt input_prompt">In&nbsp;[13]:</div>
<div class="inner_cell">
    <div class="input_area">
<div class=" highlight hl-ipython3"><pre><span></span><span class="n">plt</span><span class="o">.</span><span class="n">figure</span><span class="p">(</span><span class="n">figsize</span><span class="o">=</span><span class="p">(</span><span class="mi">16</span><span class="p">,</span><span class="mi">6</span><span class="p">))</span>
<span class="k">for</span> <span class="n">i</span> <span class="ow">in</span> <span class="n">xrange</span><span class="p">(</span><span class="mi">2</span><span class="o">*</span><span class="p">(</span><span class="n">mu_digits</span><span class="o">.</span><span class="n">shape</span><span class="p">[</span><span class="mi">0</span><span class="p">]</span><span class="o">/</span><span class="mi">2</span><span class="p">)):</span> <span class="c1"># loop over all means</span>
    <span class="n">plt</span><span class="o">.</span><span class="n">subplot</span><span class="p">(</span><span class="mi">2</span><span class="p">,</span><span class="n">mu_digits</span><span class="o">.</span><span class="n">shape</span><span class="p">[</span><span class="mi">0</span><span class="p">]</span><span class="o">/</span><span class="mi">2</span><span class="p">,</span><span class="n">i</span><span class="o">+</span><span class="mi">1</span><span class="p">)</span>
    <span class="n">plt</span><span class="o">.</span><span class="n">imshow</span><span class="p">(</span><span class="n">mu_digits</span><span class="p">[</span><span class="n">i</span><span class="p">]</span><span class="o">.</span><span class="n">reshape</span><span class="p">(</span><span class="mi">28</span><span class="p">,</span><span class="mi">28</span><span class="p">))</span>
    <span class="n">plt</span><span class="o">.</span><span class="n">xticks</span><span class="p">(())</span>
    <span class="n">plt</span><span class="o">.</span><span class="n">yticks</span><span class="p">(())</span>
<span class="n">plt</span><span class="o">.</span><span class="n">tight_layout</span><span class="p">()</span>
</pre></div>

    </div>
</div>
</div>

<div class="output_wrapper">
<div class="output">


<div class="output_area">

    <div class="prompt"></div>




<div class="output_png output_subarea ">
<img src="data:image/png;base64,iVBORw0KGgoAAAANSUhEUgAABHgAAAEiCAYAAACC32V1AAAABHNCSVQICAgIfAhkiAAAAAlwSFlz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"
>
</div>

</div>

</div>
</div>

</div>
<div class="cell border-box-sizing text_cell rendered"><div class="prompt input_prompt">
</div><div class="inner_cell">
<div class="text_cell_render border-box-sizing rendered_html">
<h2 id="Playing-with-$k$-Means">Playing with $k$-Means<a class="anchor-link" href="#Playing-with-$k$-Means">&#182;</a></h2>
</div>
</div>
</div>
<div class="cell border-box-sizing text_cell rendered"><div class="prompt input_prompt">
</div><div class="inner_cell">
<div class="text_cell_render border-box-sizing rendered_html">
<p>This website allows you to play with the $k$-Means algorithm on another artificial dataset, the "Mickey Mouse" dataset.</p>
<p>You "step" through the algorithm by pressing the buttons in the correct order.</p>
<p>Try to get a feeling of how the algorithm proceeds.</p>

</div>
</div>
</div>
<div class="cell border-box-sizing code_cell rendered">
<div class="input">
<div class="prompt input_prompt">In&nbsp;[11]:</div>
<div class="inner_cell">
    <div class="input_area">
<div class=" highlight hl-ipython3"><pre><span></span><span class="kn">from</span> <span class="nn">IPython.display</span> <span class="kn">import</span> <span class="n">HTML</span>
<span class="n">HTML</span><span class="p">(</span><span class="s1">&#39;&lt;iframe src=http://icperformance.com/wp-content/demos/kmeansmouse.html width=500 height=450&gt;&lt;/iframe&gt;&#39;</span><span class="p">)</span>
</pre></div>

    </div>
</div>
</div>

<div class="output_wrapper">
<div class="output">


<div class="output_area">

    <div class="prompt output_prompt">Out[11]:</div>



<div class="output_html rendered_html output_subarea output_execute_result">
<iframe src="https://icperformance.com/wp-content/demos/kmeansmouse.html" width=500 height=450></iframe>
</div>

</div>

</div>
</div>

</div>
<div class="cell border-box-sizing text_cell rendered"><div class="prompt input_prompt">
</div><div class="inner_cell">
<div class="text_cell_render border-box-sizing rendered_html">
<h1 id="Playing-with-this-Notebook">Playing with this Notebook<a class="anchor-link" href="#Playing-with-this-Notebook">&#182;</a></h1><p>Try to see what happens when you</p>
<ul>
<li>Increase the standard deviation of the clusters in this notebook</li>
<li><p>Choose a "wrong" number of clusters by:</p>
<ol>
<li>changing the number of clusters generated</li>
<li>changing the number of clusters used by KMeans</li>
</ol>
</li>
<li><p>What happens to result of the $k$-Means algorithm when you have multiplied one axis of the matrix $X$ with a large value?</p>
<p>For example, the 0-th axis with 100:</p>
<p><code>X[:,0] *= 100</code></p>
<p>Why does the result change?</p>
</li>
<li><p>Combine the $k$-Means algorithm with the PCA algorithm</p>
</li>
</ul>

</div>
</div>
</div>
<div class="cell border-box-sizing code_cell rendered">
<div class="input">
<div class="prompt input_prompt">In&nbsp;[11]:</div>
<div class="inner_cell">
    <div class="input_area">
<div class=" highlight hl-ipython3"><pre><span></span> 
</pre></div>

    </div>
</div>
</div>

</div>
 


    </div>
  </div>

  </div>


  
    <footer class="footer hidden-print">
      <div class="container">
        <div class="col-md-4">
          <p>
            This website does not host notebooks, it only renders notebooks
            available on other websites.
          </p>
        </div>

        <div class="col-md-4">
          <p>
            Delivered by <a href="https://www.fastly.com/">Fastly</a>,
            Rendered by <a href="https://ovhcloud.com">OVHcloud</a>
          </p>
          <p>
            nbviewer GitHub <a href="https://github.com/jupyter/nbviewer">repository</a>.
          </p>
        </div>

        <div class="col-md-4">
          
  
            
              <p>
                nbviewer version:
                <a href="https://github.com/jupyter/nbviewer/commit/d25d3c39c10d5f6b9891eba2503f30689c1aae28">
                  d25d3c3
                </a>
              </p>
            
          
  
  <p>
    nbconvert version: <a href="https://github.com/jupyter/nbconvert/releases/tag/5.6.1">
      5.6.1
    </a>
  </p>
  

          
  
  
  <p>
    Rendered
    <span class='date' data-date='Fri, 30 Sep 2022 07:19:57 UTC' title='Fri, 30 Sep 2022 07:19:57 UTC'>(Fri, 30 Sep 2022 07:19:57 UTC)</span>
  </p>
  

        </div>
      </div>
    </footer>
  

  <script src="/static/components/bootstrap/js/bootstrap.min.js"></script>
  <script src="/static/components/headroom.js/dist/headroom.min.js"></script>
  <script src="/static/components/headroom.js/dist/jQuery.headroom.min.js"></script>

  
  
  <script>
    $(function(){ $("#menubar").headroom({
      tolerance: 5,
      offset: 205,
      classes: {
        initial: "animated",
        pinned: "slideInDown",
        unpinned: "slideOutUp"
      }
    })});
  </script>


  
  <script>
    (function(i,s,o,g,r,a,m){i['GoogleAnalyticsObject']=r;i[r]=i[r]||function(){
      (i[r].q=i[r].q||[]).push(arguments)},i[r].l=1*new Date();a=s.createElement(o),
      m=s.getElementsByTagName(o)[0];a.async=1;a.src=g;m.parentNode.insertBefore(a,m)
    })(window,document,'script','https://www.google-analytics.com/analytics.js','ga');
    ga('create', 'UA-52617120-5', 'auto',
       {'storage': 'none'});
    ga('set', 'anonymizeIp', true);
    ga('send', 'pageview');
  </script>
  
  <script>
    require({
        paths: {
          moment: "/static/components/moment/min/moment.min.js"
        }
      }, ["moment"], function(moment){
      var date = $("footer .date"),
        m = moment(new Date(date.data('date'))),
        update = function(){ date.text(m.fromNow()); };
      setInterval(update, 61*1000);
      update();
      var w = $(window).scroll(function(event){
        $("body").toggleClass("scrolled", w.scrollTop() > 0);
      });
    });
  </script>

  <!--NEW RELIC Stop Perf Measurement-->
  
  <!--NEW RELIC End-->
</body>
</html>